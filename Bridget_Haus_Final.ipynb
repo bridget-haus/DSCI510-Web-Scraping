{
 "cells": [
  {
   "cell_type": "markdown",
   "metadata": {},
   "source": [
    "### INF 510 Fall 2019 Final Project Submission"
   ]
  },
  {
   "cell_type": "markdown",
   "metadata": {},
   "source": [
    "1.\t**The names of team member(s)**:\n",
    "\n",
    "    Bridget Haus"
   ]
  },
  {
   "cell_type": "markdown",
   "metadata": {},
   "source": [
    "2.\t**How to run your code (what command-line switches they are, what happens when you invoke the code, etc.)**\n",
    "\n",
    "    This project requires the following packages:\n",
    "    - argparse, requests, bs4, sqlite3, fuzzywuzzy, matplotlib, seaborn, numpy, scipy, os\n",
    "    \n",
    "    To run this project, make sure the above packages are installed\n",
    "    \n",
    "    Clone this github repo: https://github.com/bridget-haus/inf510_project\n",
    "    \n",
    "    In jupyter notebook, you are required to enter the number of the school you would like to analyze. The program will continuously prompt you to choose a valid option in the first cell. If you do not select a valid option in the first cell, you cannot exit the while loop and move on to the next cell.\n",
    "    \n",
    "    To run analysis from the command line execute: 'python BRIDGET_HAUS_analysis.py'\n",
    "    \n",
    "    To run scrapers and build the database from command line execute: 'python BRIDGET_HAUS_hw5.py -s remote'"
   ]
  },
  {
   "cell_type": "markdown",
   "metadata": {},
   "source": [
    "3.\t**Any major “gotchas” to the code (i.e. things that don’t work, go slowly, could be improved, etc.)**\n",
    "\n",
    "    It should take less than a minute to load the data for analysis. If you want to execute the scrapers and API requests, it takes about 3 minutes. The analysis can be run either in this jupyter notebook or in the command line. When you run the analysis from the command line, the graphs pop on top of each other. Keep in mind you have to close the first figure to see the next."
   ]
  },
  {
   "cell_type": "markdown",
   "metadata": {},
   "source": [
    "4.  **Anything else you feel is relevant to the grading of your project your project.**\n",
    "\n",
    "    The analysis in this project discusses the correlation of US News Rank and other demographic factors of the university. Unless you are really thinking hard about each variable, it can be confusing to interpret the results. In particular, please keep in mind the following:\n",
    "    \n",
    "    US News Rank:\n",
    "    \n",
    "    Decreasing is **good** (you want to go from ranked 10th to 1st)\n",
    "    \n",
    "    Increasing is **bad** (you do not want to go from ranked 1st to 10th)\n",
    "    \n",
    "    For this analysis it is important to remember that a rank going down means the school is getting better. It's not intuitive, but as a school *improves* in the rankings, the slope is *negative*. Meaning that for every year to the right you move, the rank *decreases*.\n",
    "    \n",
    "    I do my best to create very clear interpretations with every slope and correlational coefficient I output\n",
    "    "
   ]
  },
  {
   "cell_type": "markdown",
   "metadata": {},
   "source": [
    "5. **What did you set out to study?  (i.e. what was the point of your project?  This should be close to your Milestone 1 assignment, but if you switched gears or changed things, note it here.)**\n",
    "\n",
    "    In recent decades there has been a push in higher education to promote affirmative action, diversity and social mobility across the United States. I wanted to understand if the US News Rankings prioritizes these types of metrics and see if I can find a correlation between rank and inclusion of various demographic and economic measurements."
   ]
  },
  {
   "cell_type": "markdown",
   "metadata": {},
   "source": [
    "6. **What did you Discover/what were your conclusions (i.e. what were your findings?  Were your original assumptions confirmed, etc.?)**\n",
    "\n",
    "    Of all of the variables I chose, university admission rate was most significantly correlated with US News Rank. There was a correltaional coefficient of .65, which means that as US News Rank decreases, so does the admission rate. This matched my assumptions, because it means that the highest ranked schools are also the most selective. The next most correlated variable was SAT scores. A correlational coefficient of -0.48 means that as rank decreases, scores increase. Again, this is intuitive that the highest rank schools admit students with the highest scores. My other variables such as income, minority student demographics and tuition had little to no real correlation with US News ranking."
   ]
  },
  {
   "cell_type": "markdown",
   "metadata": {},
   "source": [
    "7. **What difficulties did you have in completing the project?**  \n",
    "\n",
    "    I had immense challenges mapping college names from different data sources. One website may return, \"UCSB\", another \"UC Santa Barbara\" and another \"University of California, Santa Barbara\". I did extensive data cleaning, manipulation, and used a package called fuzzywuzzy that asseses string similarity in order to help me properly map schools that may go by several different names. I have been able to play with my program and eyeball a couple of stats that seem a bit off. While I am very happy with the overall accuracy of my data mapping, there are a few instances where names map incorrectly."
   ]
  },
  {
   "cell_type": "markdown",
   "metadata": {},
   "source": [
    "8. **What skills did you wish you had while you were doing the project?**\n",
    "\n",
    "    I wish I was either better at matplotlib or used an eaiser package to make graphs. I really struggled to do basic visualization tasks, such as format the yaxis as a decimal or add a trendline. I also spent a crazy amount of time on small details that I never got quite right. For instance, when you run the code in the command line the graphs pop on top of each other. I could never find a robust solution to pop many figures around the screen without crashing my program. \n",
    "    \n",
    "    I did learn a ton about modular coding. The biggest takeaway from me was learning to create functions, call those inside of other functions, run a py script from top to bottom in an organized and robust manner."
   ]
  },
  {
   "cell_type": "markdown",
   "metadata": {},
   "source": [
    "9. **What would you do “next” to expand or augment the project?**\n",
    "\n",
    "    To expand this project I could spend more time on my mapping functions to include more schools. There are also many other variables that could be taken into consideration, such as graduation/retention rates, faculty resources and class size. Another way the analysis could be expanded is by using AIC model selection to determine which variables have the greatest affect on Rank."
   ]
  },
  {
   "cell_type": "code",
   "execution_count": null,
   "metadata": {
    "scrolled": true
   },
   "outputs": [],
   "source": [
    "from src import BRIDGET_HAUS_analysis as fnl"
   ]
  },
  {
   "cell_type": "code",
   "execution_count": null,
   "metadata": {},
   "outputs": [],
   "source": [
    "#This disables jupyter notebook's truncated scrollable frames\n",
    "#It makes the project easier to consume when my graphs aren't truncated"
   ]
  },
  {
   "cell_type": "code",
   "execution_count": null,
   "metadata": {},
   "outputs": [],
   "source": [
    "%%javascript\n",
    "IPython.OutputArea.prototype._should_scroll = function(lines) {\n",
    "    return false;\n",
    "}"
   ]
  },
  {
   "cell_type": "code",
   "execution_count": null,
   "metadata": {},
   "outputs": [],
   "source": [
    "fnl.input_function()\n",
    "fnl.rank_trend()"
   ]
  },
  {
   "cell_type": "markdown",
   "metadata": {},
   "source": [
    "If the slope of the school you chose is a negative value, that means that as year increases, rank improves\n",
    "\n",
    "If the slope of the school you chose is a positive value, that means that as year increaes, rank worsens\n",
    "\n",
    "Now that you can see the US News Rank trend for this university, let's compare that to other social mobility factors. Please run the next cell to look at more graphs"
   ]
  },
  {
   "cell_type": "code",
   "execution_count": null,
   "metadata": {
    "scrolled": true
   },
   "outputs": [],
   "source": [
    "fnl.demographics_trend()"
   ]
  },
  {
   "cell_type": "markdown",
   "metadata": {},
   "source": [
    "Depending on whether your school's rank improved or worsened, you can see the slope of how other social mobility factors changed over-time."
   ]
  },
  {
   "cell_type": "markdown",
   "metadata": {},
   "source": [
    "Finally, instead of looking at a single school we want to be able to analyze all of our schools at once. The following cells produce graphs and correlational coefficients that explain the relationship between rank and each social mobility variable."
   ]
  },
  {
   "cell_type": "code",
   "execution_count": null,
   "metadata": {
    "scrolled": false
   },
   "outputs": [],
   "source": [
    "fnl.correlation__demographics()\n",
    "fnl.correlation__tuition()"
   ]
  },
  {
   "cell_type": "code",
   "execution_count": null,
   "metadata": {},
   "outputs": [],
   "source": []
  }
 ],
 "metadata": {
  "kernelspec": {
   "display_name": "Python 3",
   "language": "python",
   "name": "python3"
  },
  "language_info": {
   "codemirror_mode": {
    "name": "ipython",
    "version": 3
   },
   "file_extension": ".py",
   "mimetype": "text/x-python",
   "name": "python",
   "nbconvert_exporter": "python",
   "pygments_lexer": "ipython3",
   "version": "3.7.3"
  }
 },
 "nbformat": 4,
 "nbformat_minor": 2
}
